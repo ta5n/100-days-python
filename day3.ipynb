{
 "cells": [
  {
   "cell_type": "markdown",
   "metadata": {},
   "source": [
    "**Exercise 1 - Odd or Even**\n",
    "\n",
    "Write a program that works out whether if a given number is an odd or even number."
   ]
  },
  {
   "cell_type": "code",
   "execution_count": 1,
   "metadata": {},
   "outputs": [
    {
     "name": "stdout",
     "output_type": "stream",
     "text": [
      "This is an even number.\n"
     ]
    }
   ],
   "source": [
    "# 🚨 Don't change the code below 👇\n",
    "number = int(input(\"Which number do you want to check? \"))\n",
    "# 🚨 Don't change the code above 👆\n",
    "#Write your code below this line 👇\n",
    "odd_even = \"odd\" if number % 2 else \"even\"\n",
    "print(f\"This is an {odd_even} number.\")"
   ]
  },
  {
   "cell_type": "markdown",
   "metadata": {},
   "source": [
    "**Exercise 2 - BMI 2.0**\n",
    "\n",
    "Write a program that interprets the Body Mass Index (BMI) based on a user's weight and height.\n",
    "\n",
    "It should tell them the interpretation of their BMI based on the BMI value.\n",
    "\n",
    "- Under 18.5 they are underweight\n",
    "- Over 18.5 but below 25 they have a normal weight\n",
    "- Over 25 but below 30 they are slightly overweight\n",
    "- Over 30 but below 35 they are obese\n",
    "- Above 35 they are clinically obese."
   ]
  },
  {
   "cell_type": "code",
   "execution_count": 2,
   "metadata": {},
   "outputs": [
    {
     "name": "stdout",
     "output_type": "stream",
     "text": [
      "Your BMI is 28, you are slightly overweight.\n"
     ]
    }
   ],
   "source": [
    "# 🚨 Don't change the code below 👇\n",
    "height = float(input(\"enter your height in m: \"))\n",
    "weight = float(input(\"enter your weight in kg: \"))\n",
    "# 🚨 Don't change the code above 👆\n",
    "#Write your code below this line 👇\n",
    "bmi = weight / height ** 2\n",
    "if bmi < 18.5:\n",
    "    print(f\"Your BMI is {round(bmi)}, you are underweight.\")\n",
    "elif bmi < 25:\n",
    "    print(f\"Your BMI is {round(bmi)}, you have a normal weight.\")\n",
    "elif bmi < 30:\n",
    "    print(f\"Your BMI is {round(bmi)}, you are slightly overweight.\")\n",
    "elif bmi < 35:\n",
    "    print(f\"Your BMI is {round(bmi)}, you are obese.\")\n",
    "else:\n",
    "    print(f\"Your BMI is {round(bmi)}, you are clinically obese.\")"
   ]
  },
  {
   "cell_type": "markdown",
   "metadata": {},
   "source": [
    "**Exercise 3 - Leap Year**\n",
    "\n",
    "Write a program that works out whether if a given year is a leap year.\n",
    "\n",
    "This is how you work out whether if a particular year is a leap year.\n",
    "\n",
    "- on every year that is evenly divisible by 4 \n",
    "- **except** every year that is evenly divisible by 100\n",
    "- **unless** the year is also evenly divisible by 400"
   ]
  },
  {
   "cell_type": "code",
   "execution_count": 14,
   "metadata": {},
   "outputs": [
    {
     "name": "stdout",
     "output_type": "stream",
     "text": [
      "Not leap year.\n"
     ]
    }
   ],
   "source": [
    "# 🚨 Don't change the code below 👇\n",
    "year = int(input(\"Which year do you want to check? \"))\n",
    "# 🚨 Don't change the code above 👆\n",
    "#Write your code below this line 👇\n",
    "leap_year = not (year % 400) or (year % 100) and not (year % 4)\n",
    "print(\"Leap year.\" if leap_year else \"Not leap year.\")"
   ]
  },
  {
   "cell_type": "markdown",
   "metadata": {},
   "source": [
    "**Exercise 4 - Pizza Order Practice**\n",
    "\n",
    "Congratulations, you've got a job at Python Pizza. Your first job is to build an automatic pizza order program.\n",
    "\n",
    "Based on a user's order, work out their final bill.\n",
    "\n",
    "- Small Pizza: $15\n",
    "- Medium Pizza: $20\n",
    "- Large Pizza: $25\n",
    "- Pepperoni for Small Pizza: +$2\n",
    "- Pepperoni for Medium or Large Pizza: +$3\n",
    "- Extra cheese for any size pizza: + $1\n",
    "\n",
    "*example:*\n",
    "```\n",
    "size = \"L\"\n",
    "add_pepperoni = \"Y\"\n",
    "extra_cheese = \"N\"\n",
    "```\n",
    "\n",
    "*output:*\n",
    "```\n",
    "Your final bill is: $28.\n",
    "```"
   ]
  },
  {
   "cell_type": "code",
   "execution_count": 15,
   "metadata": {},
   "outputs": [
    {
     "name": "stdout",
     "output_type": "stream",
     "text": [
      "Welcome to Python Pizza Deliveries!\n",
      "Your final bill is: $16.\n"
     ]
    }
   ],
   "source": [
    "# 🚨 Don't change the code below 👇\n",
    "print(\"Welcome to Python Pizza Deliveries!\")\n",
    "size = input(\"What size pizza do you want? S, M, or L \")\n",
    "add_pepperoni = input(\"Do you want pepperoni? Y or N \")\n",
    "extra_cheese = input(\"Do you want extra cheese? Y or N \")\n",
    "# 🚨 Don't change the code above 👆\n",
    "#Write your code below this line 👇\n",
    "bill = 15;\n",
    "if size == 'M':\n",
    "    bill += 5\n",
    "elif size == 'L':\n",
    "    bill += 10\n",
    "if add_pepperoni == 'Y': \n",
    "    if size == 'S':\n",
    "        bill += 2\n",
    "    else:\n",
    "        bill += 3\n",
    "if extra_cheese == 'Y':\n",
    "    bill += 1\n",
    "    \n",
    "print(f\"Your final bill is: ${bill}.\")"
   ]
  },
  {
   "cell_type": "markdown",
   "metadata": {},
   "source": [
    "**Exercise 5 - Love Calculator**\n",
    "\n",
    "You are going to write a program that tests the compatibility between two people.\n",
    "\n",
    "To work out the love score between two people:\n",
    "\n",
    "- Take both people's names and check for the number of times the letters in the word TRUE occurs.\n",
    "- Then check for the number of times the letters in the word LOVE occurs.\n",
    "- Then combine these numbers to make a 2 digit number.\n",
    "\n",
    "For Love Scores less than 10 or greater than 90, the message should be:\n",
    "\n",
    "`\"Your score is **x**, you go together like coke and mentos.\"`\n",
    "\n",
    "For Love Scores between 40 and 50, the message should be:\n",
    "\n",
    "`\"Your score is **y**, you are alright together.\"`\n",
    "\n",
    "Otherwise, the message will just be their score. e.g.:\n",
    "\n",
    "`\"Your score is **z**.\"`\n",
    "\n",
    "```\n",
    "\"Your score is 47, you are alright together.\"\n",
    "\"Your score is 125, you go together like coke and mentos.\"\n",
    "\"Your score is 54.\"\n",
    "```"
   ]
  },
  {
   "cell_type": "code",
   "execution_count": 19,
   "metadata": {},
   "outputs": [
    {
     "name": "stdout",
     "output_type": "stream",
     "text": [
      "Welcome to the Love Calculator!\n",
      "Your score is 66.\n"
     ]
    }
   ],
   "source": [
    "# 🚨 Don't change the code below 👇\n",
    "print(\"Welcome to the Love Calculator!\")\n",
    "name1 = input(\"What is your name? \\n\")\n",
    "name2 = input(\"What is their name? \\n\")\n",
    "# 🚨 Don't change the code above 👆\n",
    "#Write your code below this line 👇\n",
    "true_score = 0\n",
    "for letter in \"true\":\n",
    "    true_score += name1.lower().count(letter) + name2.lower().count(letter)\n",
    "love_score = 0\n",
    "for letter in \"love\":\n",
    "    love_score += name1.lower().count(letter) + name2.lower().count(letter)\n",
    "score = 10 * true_score + love_score\n",
    "msg = f\"Your score is {score}\"\n",
    "if score < 10 or score > 90:\n",
    "    msg += \", you go together like coke and mentos.\"\n",
    "elif 40 < score and score < 50:\n",
    "    msg += \", you are alright together.\"\n",
    "else:\n",
    "    msg += \".\"\n",
    "print(msg)"
   ]
  }
 ],
 "metadata": {
  "interpreter": {
   "hash": "0fe75d8570d7ca813b77dbb77846a7c86d4d87be3d56cfbbe928b2350ecba3a5"
  },
  "kernelspec": {
   "display_name": "Python 3.8.10 ('.env': venv)",
   "language": "python",
   "name": "python3"
  },
  "language_info": {
   "codemirror_mode": {
    "name": "ipython",
    "version": 3
   },
   "file_extension": ".py",
   "mimetype": "text/x-python",
   "name": "python",
   "nbconvert_exporter": "python",
   "pygments_lexer": "ipython3",
   "version": "3.8.10"
  },
  "orig_nbformat": 4
 },
 "nbformat": 4,
 "nbformat_minor": 2
}
